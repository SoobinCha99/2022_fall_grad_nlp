{
  "nbformat": 4,
  "nbformat_minor": 0,
  "metadata": {
    "colab": {
      "provenance": [],
      "collapsed_sections": []
    },
    "kernelspec": {
      "name": "python3",
      "display_name": "Python 3"
    },
    "language_info": {
      "name": "python"
    }
  },
  "cells": [
    {
      "cell_type": "code",
      "source": [
        "from collections import Counter\n"
      ],
      "metadata": {
        "id": "tcRcpB8PMuXS"
      },
      "execution_count": 123,
      "outputs": []
    },
    {
      "cell_type": "code",
      "source": [
        "reviews = [\n",
        "('fun,couple,love,love', 'comedy'),\n",
        "('fast,furious,shoot', 'action'),\n",
        "('Couple,fly,fast,fun,fun', 'comedy'),\n",
        "('Furious,shoot,shoot,fun', 'action'),\n",
        "('Fly,fast,shoot,love', 'action')\n",
        "]\n",
        "review1 = 'fast,furious,shoot,love'\n",
        "review2 = 'fast,fun,fun,love,fun'\n",
        "review3 = 'fun,fun'"
      ],
      "metadata": {
        "id": "iW6YwQlm9cCq"
      },
      "execution_count": 9,
      "outputs": []
    },
    {
      "cell_type": "code",
      "source": [
        "def get_prior(reviews):\n",
        "   class_comedy_count = 0 \n",
        "   class_action_count = 0 \n",
        "   for i in range(0,5): \n",
        "     if reviews[i][1] == 'comedy': \n",
        "       class_comedy_count = class_comedy_count + 1\n",
        "     else: \n",
        "        class_action_count = class_action_count + 1 \n",
        "   priorC = class_comedy_count / 5 \n",
        "   priorA = class_action_count / 5 \n",
        "   return priorA, priorC "
      ],
      "metadata": {
        "id": "tx9hQh-m-j5L"
      },
      "execution_count": 62,
      "outputs": []
    },
    {
      "cell_type": "code",
      "source": [
        "def get_words_category(reviews):\n",
        "  A_corpus = \"\"\n",
        "  C_corpus = \"\"\n",
        "  for i in range(0,5):\n",
        "    if reviews[i][1] == 'action':\n",
        "      A_corpus = A_corpus +reviews[i][0]\n",
        "    else :\n",
        "      C_corpus = C_corpus + reviews[i][0]\n",
        "  A_corpus = A_corpus.replace(\",\", \" \")\n",
        "  C_corpus = C_corpus.replace(',',' ')\n",
        "  A_count = Counter(A_corpus.split())\n",
        "  C_count = Counter(C_corpus.split())\n",
        "  #print(A_corpus)\n",
        "  #print(type(A_corpus))\n",
        "\n",
        "  return A_count, C_count\n",
        "  \n",
        "\n",
        "wordListA, wordListC = get_words_category(reviews)"
      ],
      "metadata": {
        "id": "G8IoydzqAGHX"
      },
      "execution_count": 91,
      "outputs": []
    },
    {
      "cell_type": "code",
      "source": [
        "def predict(text): \n",
        "   word_list = text.split(sep = ',')\n",
        "   print(word_list)\n",
        "   len_A = sum(wordListA.values())\n",
        "   len_C = sum(wordListC.values())\n",
        "\n",
        "   probaA = 1 \n",
        "   probaC = 1 \n",
        "   for i in range(0,len(word_list)):\n",
        "     #print(wordListA[word_list[i]])\n",
        "     probaA = probaA * (wordListA[word_list[i]] / len_A)\n",
        "     \n",
        "     probaC = probaC * (wordListC[word_list[i]]/ len_C)\n",
        "\n",
        "   if probaA > probaC: \n",
        "     return \"action\"\n",
        "   else: \n",
        "     return \"comedy\"\n",
        "\n",
        "predict(review1)\n",
        "\n",
        "     \n",
        "\n",
        "   \n",
        "\n"
      ],
      "metadata": {
        "colab": {
          "base_uri": "https://localhost:8080/",
          "height": 54
        },
        "id": "zc97tuz5I9iN",
        "outputId": "b8cefc3f-b7a0-4bd9-9f5b-861d0e42455c"
      },
      "execution_count": 121,
      "outputs": [
        {
          "output_type": "stream",
          "name": "stdout",
          "text": [
            "['fast', 'furious', 'shoot', 'love']\n"
          ]
        },
        {
          "output_type": "execute_result",
          "data": {
            "text/plain": [
              "'action'"
            ],
            "application/vnd.google.colaboratory.intrinsic+json": {
              "type": "string"
            }
          },
          "metadata": {},
          "execution_count": 121
        }
      ]
    },
    {
      "cell_type": "code",
      "source": [
        "priorA, priorC = get_prior(reviews)\n",
        "wordListA, wordListC = get_words_category(reviews)\n",
        "\n",
        "print( review1 + ' belongs to '+ predict(review1))\n",
        "print( review2 + ' belongs to '+ predict(review2))\n",
        "print( review3 + ' belongs to '+ predict(review3))"
      ],
      "metadata": {
        "colab": {
          "base_uri": "https://localhost:8080/"
        },
        "id": "vdIDspQD-BK0",
        "outputId": "8dd3beaf-21ed-4e10-ed63-f84e6ff77db6"
      },
      "execution_count": 127,
      "outputs": [
        {
          "output_type": "stream",
          "name": "stdout",
          "text": [
            "['fast', 'furious', 'shoot', 'love']\n",
            "fast,furious,shoot,love belongs to action\n",
            "['fast', 'fun', 'fun', 'love', 'fun']\n",
            "fast,fun,fun,love,fun belongs to comedy\n",
            "['fun', 'fun']\n",
            "fun,fun belongs to comedy\n"
          ]
        }
      ]
    },
    {
      "cell_type": "code",
      "source": [],
      "metadata": {
        "id": "kegVsr1wM2mP"
      },
      "execution_count": null,
      "outputs": []
    }
  ]
}