{
 "cells": [
  {
   "cell_type": "code",
   "execution_count": 17,
   "metadata": {},
   "outputs": [],
   "source": [
    "sample_text = \"안녕하세요, 현재 진행 중인 수업은 자연어 처리 이론 및 응용 수업 입니다.\""
   ]
  },
  {
   "cell_type": "code",
   "execution_count": 103,
   "metadata": {},
   "outputs": [
    {
     "name": "stdout",
     "output_type": "stream",
     "text": [
      "['안녕하세요,', '현재', '진행', '중인']\n",
      "['수업은', '자연어', '처리', '이론']\n",
      "['및', '응용', '수업', '입니다.']\n"
     ]
    }
   ],
   "source": [
    "def get_n_gram(sample_text,n):\n",
    "    n_gram = [] \n",
    "    word_list = sample_text.split() \n",
    "    start = 0 \n",
    "    end = n \n",
    "    for i in range(round(len(word_list)/n+0.49)):   \n",
    "        print(word_list[start:end])\n",
    "        start = start + n \n",
    "        end = end + n \n",
    "    #mod = len(word_list)%n\n",
    "    #print(type(word_list))\n",
    "    #print(mod)\n",
    "    #print(word_list[-mod:])\n",
    "\n",
    "get_n_gram(sample_text,4)"
   ]
  },
  {
   "cell_type": "code",
   "execution_count": 105,
   "metadata": {},
   "outputs": [],
   "source": [
    "def main():\n",
    "    if __name__==\"__main__\":\n",
    "        main() "
   ]
  },
  {
   "cell_type": "code",
   "execution_count": null,
   "metadata": {},
   "outputs": [],
   "source": []
  }
 ],
 "metadata": {
  "kernelspec": {
   "display_name": "Python 3.7.13 ('main_env')",
   "language": "python",
   "name": "python3"
  },
  "language_info": {
   "codemirror_mode": {
    "name": "ipython",
    "version": 3
   },
   "file_extension": ".py",
   "mimetype": "text/x-python",
   "name": "python",
   "nbconvert_exporter": "python",
   "pygments_lexer": "ipython3",
   "version": "3.7.13"
  },
  "orig_nbformat": 4,
  "vscode": {
   "interpreter": {
    "hash": "1153c11ae87076ae6621cdc5d7329613c33efc385af2aabe3f954ec07174675d"
   }
  }
 },
 "nbformat": 4,
 "nbformat_minor": 2
}
