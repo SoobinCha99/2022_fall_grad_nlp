{
 "cells": [
  {
   "cell_type": "code",
   "execution_count": 23,
   "metadata": {},
   "outputs": [],
   "source": [
    "sample_text = \"Colaboratory(또는 줄여서 'Colab')를 사용하면 브라우저에서 Python을 작성하고 실행할 수 있습니다.\""
   ]
  },
  {
   "cell_type": "code",
   "execution_count": 24,
   "metadata": {},
   "outputs": [],
   "source": [
    "def list2String(str_list):\n",
    "    result = \"\"\n",
    "    for s in str_list:\n",
    "        result += s + \" \"\n",
    "    return result.strip()"
   ]
  },
  {
   "cell_type": "code",
   "execution_count": 32,
   "metadata": {},
   "outputs": [
    {
     "name": "stdout",
     "output_type": "stream",
     "text": [
      "10\n",
      "[\"Colaboratory(또는 줄여서 'Colab')를\", \"줄여서 'Colab')를 사용하면\", \"'Colab')를 사용하면 브라우저에서\", '사용하면 브라우저에서 Python을', '브라우저에서 Python을 작성하고', 'Python을 작성하고 실행할', '작성하고 실행할 수', '실행할 수 있습니다.']\n"
     ]
    }
   ],
   "source": [
    "def get_n_gram(sample_text,n):\n",
    "    n_gram_list = [] \n",
    "    word_list = sample_text.split() \n",
    "    start = 0 \n",
    "    end = n \n",
    "    print(len(word_list))\n",
    "    for i in range(len(word_list)-n+1):    #round(len(word_list)/n+0.49)\n",
    "        n_gram = word_list[start:end]\n",
    "        n_gram = list2String(n_gram)\n",
    "        #print(word_list[start:end])\n",
    "        n_gram_list.append(n_gram)\n",
    "        start = start + 1\n",
    "        end = end + 1\n",
    "    #mod = len(word_list)%n\n",
    "    #print(type(word_list))\n",
    "    #print(mod)\n",
    "    #print(word_list[-mod:])\n",
    "    print(n_gram_list)\n",
    "get_n_gram(sample_text,3)"
   ]
  },
  {
   "cell_type": "code",
   "execution_count": null,
   "metadata": {},
   "outputs": [],
   "source": [
    "\n",
    "\n"
   ]
  }
 ],
 "metadata": {
  "kernelspec": {
   "display_name": "Python 3.7.13 ('main_env')",
   "language": "python",
   "name": "python3"
  },
  "language_info": {
   "codemirror_mode": {
    "name": "ipython",
    "version": 3
   },
   "file_extension": ".py",
   "mimetype": "text/x-python",
   "name": "python",
   "nbconvert_exporter": "python",
   "pygments_lexer": "ipython3",
   "version": "3.7.13"
  },
  "orig_nbformat": 4,
  "vscode": {
   "interpreter": {
    "hash": "1153c11ae87076ae6621cdc5d7329613c33efc385af2aabe3f954ec07174675d"
   }
  }
 },
 "nbformat": 4,
 "nbformat_minor": 2
}
